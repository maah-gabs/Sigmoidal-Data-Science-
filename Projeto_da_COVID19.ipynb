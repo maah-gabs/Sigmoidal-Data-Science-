{
  "nbformat": 4,
  "nbformat_minor": 0,
  "metadata": {
    "colab": {
      "name": "Projeto da COVID19 ",
      "provenance": [],
      "authorship_tag": "ABX9TyNfmdyCU212ULnrw3qrVxHK",
      "include_colab_link": true
    },
    "kernelspec": {
      "name": "python3",
      "display_name": "Python 3"
    }
  },
  "cells": [
    {
      "cell_type": "markdown",
      "metadata": {
        "id": "view-in-github",
        "colab_type": "text"
      },
      "source": [
        "<a href=\"https://colab.research.google.com/github/maah-gabs/Sigmoidal-Data-Science-/blob/master/Projeto_da_COVID19.ipynb\" target=\"_parent\"><img src=\"https://colab.research.google.com/assets/colab-badge.svg\" alt=\"Open In Colab\"/></a>"
      ]
    },
    {
      "cell_type": "markdown",
      "metadata": {
        "id": "W5ucCOrz1dOV",
        "colab_type": "text"
      },
      "source": [
        "### Panorama da Srs - Cov - 2 no Brasil \n",
        "\n",
        "  Após o primeiro caso de Covid 19 ocorrido em dez/19 na cidade de Wuhan na China. O mundo tem enfrentado uma das maiores pandemias do século XXI com consequencias inimagináveis. \n",
        "\n",
        "  A Covid19 é uma doença infecto contagiosa proveniente dos vírus da classe de Coronavírus. Especialistas e estudos demonstram que a disseminação do vírus pode estar associada a uma mutação nos morcegos (hospedeiro intermediário) antes de contaminar o Ser Humano. \n",
        "\n",
        "  A doença tem sido foco de estudos, porém, ainda não encontramos tratamento medicamentoso e vacinas que possam proteger a população do contágio da doença. \n",
        "\n",
        "  <center><img alt=\"Colaboratory logo\" width=\"50%\" src=\"https://raw.githubusercontent.com/maah-gabs/Sigmoidal-Data-Science-/master/4002835.jpg\"></center>\n",
        "\n",
        "  Os sinais e sintomas são: Febre, tosse e desconforto respiratório. Porém, sintomas, como cefaleia intensa, perda de olfato e/ou paladar, diarreia também devem ser investigados. \n",
        "\n",
        "  Até o presente momento, percebemos que uma parte da população está entre o grupo de \"Assintomáticos\", ou seja, individuos que tem a doença, porém, não produzem sintomas. Outra parte da população, desenvolvem sintomas sendo eles dos mais leves aos mais graves, com necessidade de internação hospitalar e até a uso de ventiladores mecanicos. \n"
      ]
    },
    {
      "cell_type": "markdown",
      "metadata": {
        "id": "s-3kKH_p5g2O",
        "colab_type": "text"
      },
      "source": [
        "## Obtenção dos dados \n",
        "\n",
        "Os dados utilizados para esta análise foram retirados do *GitHub* \"Our Word in Data\" e você pode acessá - los clicando [neste link.](https://https://github.com/owid/covid-19-data/tree/master/public/data)\n",
        "\n",
        "Com o advento de novas doenças e no meio de uma pandemia a obtenção de dados podem ficar um pouco prejudicadas, é importante também considerar que os dados mudam dia após dia. \n",
        "\n",
        "Outro ponto importante a se considerar é que existem diversas fontes de dados que discutem o tema como: Organização Mundial da Saúde (OMS), Governo Federal (Ministério da Saúde), Governo Estadual (Secretárias de Saúde) e dados da imprensa. Sendo assim, podem ser encontrados dados conflitantes. "
      ]
    },
    {
      "cell_type": "markdown",
      "metadata": {
        "id": "3g19qW6c9VzX",
        "colab_type": "text"
      },
      "source": [
        "### Dicionário de Variáveis. \n",
        "\n",
        "Abaixo, será feito um dicionário de variáveis para facilitar a nossa compreensão da análise do DataSet escolhido. \n",
        "Cada coluna, terá a sua definição. \n",
        "\n",
        "* `iso_code`: ISO 3166 - 1 alfa 3 Código dos países com três letras. \n",
        "* `continent`: Continente de localização geográfica. \n",
        "* `location` : Localização geográfica.\n",
        "* `date`: Data da observação. \n",
        "* `total_cases`: Total de casos confirmados de COVID19. \n",
        "* `new_cases`: Novos casos de COVID19. \n",
        "* `total_deaths`: Total de mortes atribuidos a COVID19.\n",
        "* `new_deaths`: Novas mortes atibuidas a COVID19.\n",
        "* `total_cases_per_million`: Novos casos confirmados de COVID19 por milhão.\n",
        "* `new_cases_per_million`: Novos casos de COVID19 por milhão. \n",
        "* `total_deaths_per_million`: Total de mortes de COVID19 por milhão. \n",
        "* `new_deaths_per_million`: Novas mortes por COVID19 por milhão.\n",
        "* `total_tests`: Total de mortes de COVID19. \n",
        "* `new_tests`: Novos testes para COVID19.\n",
        "* `new_tests_smoothed`: Novos testes para COVID19 (suavizado por sete dias) para países que não relatam dados diariamente, assumimos que o teste mudou igualmente diariamente em qualquer período em que nenhum dado foi relatado. Isso produz uma série completa de números diários, que são calculados em média em uma janela de 7 dias consecutivos. \n",
        "* `total_tests_per_thousand`: Total de testes de COVID19 para mil pessoas. \n",
        "* `new_tests_per_thousand`: Novos testes de COVID19 por mil. \n",
        "* `new_tests_smoothed_per_thousand`: Novos testes para COVID19 (suavizado por sete dias) por mil pessoas. \n",
        "* `tests_units`: Unidades usadas pelo local para relatar seus dados de teste. \n",
        "* `stringency_index`: Indice de Estresse do Governo: medida que é composta por nove indicadores de resposta, incluindo, fechamento de escolas, fechamentos de locais de trabalho e proibições de viagens, redimensionando para um valor de 0 a 100 (sendo 100 a resposta mais estrita). \n",
        "* `population`: População em 2020.\n",
        "* `population_density`: Número de pessoas dividida por área terrestre a medida é feite em KM quadrados no ano mais recente disponível. \n",
        "* `median_age`: Idade média da população, projeção da ONU para 2020. \n",
        "* `aged_65_older`: Proporção da população com 65 anos ou mais (ano mais recente disponível). \n",
        "* `aged_70_older`: Proporção da população com 70 anos ou mais em 2015. \n",
        "* `gdp_per_capita`: Produto interno bruto com paridade do poder de compra (dólares internacionais constantes de 2011) (último ano disponível). \n",
        "* `extreme_poverty`: Porcentagem da população que vive em extrema pobreza (último ano disponível de 2010). \n",
        "* `cvd_death_rate`: Taxa de mortalidade por doenças cardiovasculares em 2017. \n",
        "* `diabetes_prevalence`:Prevalencia de diabetes (% da população entre 20 e 79 anos) em 2017. \n",
        "* `female_smokers`:Porcentagem de mulheres que fumam (último ano disponível).\n",
        "* `male_smokers`: Porcentagem de homens que fumam (último ano disponível).\n",
        "* `handwashing_facilities`: Porcentagem da população com instalações básicas de lavagem das mãos (último ano disponível). \n",
        "* `hospital_beds_per_thousand`: Camas de hospital por 1.000 pessoas (último ano disponível desde 2010). \n",
        "* `life_expectancy`: Expectativa de vida no nascimento em 2019. "
      ]
    },
    {
      "cell_type": "markdown",
      "metadata": {
        "id": "L2pXmsLPYHs2",
        "colab_type": "text"
      },
      "source": [
        "## Importando os dados. \n",
        "\n",
        "Conforme discutido acima, os dados foram retirados do Github do \"Our Word in Data COVID-19 dataset\". Importaremos o documento em formato `csv` para a análise. \n",
        "A data dos dados importados são do dia **14 de junho de 2020** e podem ser encontrados [nesse link.](https://https://raw.githubusercontent.com/carlosfab/dsnp2/master/datasets/owid-covid-data.csv) "
      ]
    },
    {
      "cell_type": "code",
      "metadata": {
        "id": "DAwPoDiOZUi0",
        "colab_type": "code",
        "colab": {
          "base_uri": "https://localhost:8080/",
          "height": 74
        },
        "outputId": "5657b32a-4c58-40ac-8459-069bece56904"
      },
      "source": [
        "# Importando as bibliotecas utilizadas. \n",
        "\n",
        "import pandas as pd \n",
        "import numpy as np \n",
        "import matplotlib.pyplot as plt \n",
        "import seaborn as sns "
      ],
      "execution_count": 1,
      "outputs": [
        {
          "output_type": "stream",
          "text": [
            "/usr/local/lib/python3.6/dist-packages/statsmodels/tools/_testing.py:19: FutureWarning: pandas.util.testing is deprecated. Use the functions in the public API at pandas.testing instead.\n",
            "  import pandas.util.testing as tm\n"
          ],
          "name": "stderr"
        }
      ]
    },
    {
      "cell_type": "code",
      "metadata": {
        "id": "rM_kzvKIZhJ6",
        "colab_type": "code",
        "colab": {}
      },
      "source": [
        "# Importar o dataSet \n",
        "data_path = \"https://raw.githubusercontent.com/carlosfab/dsnp2/master/datasets/owid-covid-data.csv\"\n",
        "df= pd.read_csv (data_path)"
      ],
      "execution_count": 2,
      "outputs": []
    },
    {
      "cell_type": "markdown",
      "metadata": {
        "id": "D16u-BluaMg4",
        "colab_type": "text"
      },
      "source": [
        "## Análise exploratória dos dados. \n",
        "\n",
        "A partir de agora iniciaremos uma análise inicial dos dados presentes no dataset importado acima para retirarmos os nossos primeiros `insights`. \n",
        "\n",
        "Inicialmente, chamarei as cinco primeiras entradas para analisar como os dados estão distribuidos no DF. "
      ]
    },
    {
      "cell_type": "code",
      "metadata": {
        "id": "xhw4lyMRZxO4",
        "colab_type": "code",
        "colab": {
          "base_uri": "https://localhost:8080/",
          "height": 226
        },
        "outputId": "becbc00f-29d4-4669-902e-b7780dbfdefb"
      },
      "source": [
        "# Verificando as cinco primeiras entradas do meu Dataset.\n",
        "df.head()"
      ],
      "execution_count": null,
      "outputs": [
        {
          "output_type": "execute_result",
          "data": {
            "text/html": [
              "<div>\n",
              "<style scoped>\n",
              "    .dataframe tbody tr th:only-of-type {\n",
              "        vertical-align: middle;\n",
              "    }\n",
              "\n",
              "    .dataframe tbody tr th {\n",
              "        vertical-align: top;\n",
              "    }\n",
              "\n",
              "    .dataframe thead th {\n",
              "        text-align: right;\n",
              "    }\n",
              "</style>\n",
              "<table border=\"1\" class=\"dataframe\">\n",
              "  <thead>\n",
              "    <tr style=\"text-align: right;\">\n",
              "      <th></th>\n",
              "      <th>iso_code</th>\n",
              "      <th>continent</th>\n",
              "      <th>location</th>\n",
              "      <th>date</th>\n",
              "      <th>total_cases</th>\n",
              "      <th>new_cases</th>\n",
              "      <th>total_deaths</th>\n",
              "      <th>new_deaths</th>\n",
              "      <th>total_cases_per_million</th>\n",
              "      <th>new_cases_per_million</th>\n",
              "      <th>total_deaths_per_million</th>\n",
              "      <th>new_deaths_per_million</th>\n",
              "      <th>total_tests</th>\n",
              "      <th>new_tests</th>\n",
              "      <th>total_tests_per_thousand</th>\n",
              "      <th>new_tests_per_thousand</th>\n",
              "      <th>new_tests_smoothed</th>\n",
              "      <th>new_tests_smoothed_per_thousand</th>\n",
              "      <th>tests_units</th>\n",
              "      <th>stringency_index</th>\n",
              "      <th>population</th>\n",
              "      <th>population_density</th>\n",
              "      <th>median_age</th>\n",
              "      <th>aged_65_older</th>\n",
              "      <th>aged_70_older</th>\n",
              "      <th>gdp_per_capita</th>\n",
              "      <th>extreme_poverty</th>\n",
              "      <th>cvd_death_rate</th>\n",
              "      <th>diabetes_prevalence</th>\n",
              "      <th>female_smokers</th>\n",
              "      <th>male_smokers</th>\n",
              "      <th>handwashing_facilities</th>\n",
              "      <th>hospital_beds_per_thousand</th>\n",
              "    </tr>\n",
              "  </thead>\n",
              "  <tbody>\n",
              "    <tr>\n",
              "      <th>0</th>\n",
              "      <td>AFG</td>\n",
              "      <td>Asia</td>\n",
              "      <td>Afghanistan</td>\n",
              "      <td>2019-12-31</td>\n",
              "      <td>0.0</td>\n",
              "      <td>0.0</td>\n",
              "      <td>0.0</td>\n",
              "      <td>0.0</td>\n",
              "      <td>0.0</td>\n",
              "      <td>0.0</td>\n",
              "      <td>0.0</td>\n",
              "      <td>0.0</td>\n",
              "      <td>NaN</td>\n",
              "      <td>NaN</td>\n",
              "      <td>NaN</td>\n",
              "      <td>NaN</td>\n",
              "      <td>NaN</td>\n",
              "      <td>NaN</td>\n",
              "      <td>NaN</td>\n",
              "      <td>NaN</td>\n",
              "      <td>38928341.0</td>\n",
              "      <td>54.422</td>\n",
              "      <td>18.6</td>\n",
              "      <td>2.581</td>\n",
              "      <td>1.337</td>\n",
              "      <td>1803.987</td>\n",
              "      <td>NaN</td>\n",
              "      <td>597.029</td>\n",
              "      <td>9.59</td>\n",
              "      <td>NaN</td>\n",
              "      <td>NaN</td>\n",
              "      <td>37.746</td>\n",
              "      <td>0.5</td>\n",
              "    </tr>\n",
              "    <tr>\n",
              "      <th>1</th>\n",
              "      <td>AFG</td>\n",
              "      <td>Asia</td>\n",
              "      <td>Afghanistan</td>\n",
              "      <td>2020-01-01</td>\n",
              "      <td>0.0</td>\n",
              "      <td>0.0</td>\n",
              "      <td>0.0</td>\n",
              "      <td>0.0</td>\n",
              "      <td>0.0</td>\n",
              "      <td>0.0</td>\n",
              "      <td>0.0</td>\n",
              "      <td>0.0</td>\n",
              "      <td>NaN</td>\n",
              "      <td>NaN</td>\n",
              "      <td>NaN</td>\n",
              "      <td>NaN</td>\n",
              "      <td>NaN</td>\n",
              "      <td>NaN</td>\n",
              "      <td>NaN</td>\n",
              "      <td>0.0</td>\n",
              "      <td>38928341.0</td>\n",
              "      <td>54.422</td>\n",
              "      <td>18.6</td>\n",
              "      <td>2.581</td>\n",
              "      <td>1.337</td>\n",
              "      <td>1803.987</td>\n",
              "      <td>NaN</td>\n",
              "      <td>597.029</td>\n",
              "      <td>9.59</td>\n",
              "      <td>NaN</td>\n",
              "      <td>NaN</td>\n",
              "      <td>37.746</td>\n",
              "      <td>0.5</td>\n",
              "    </tr>\n",
              "    <tr>\n",
              "      <th>2</th>\n",
              "      <td>AFG</td>\n",
              "      <td>Asia</td>\n",
              "      <td>Afghanistan</td>\n",
              "      <td>2020-01-02</td>\n",
              "      <td>0.0</td>\n",
              "      <td>0.0</td>\n",
              "      <td>0.0</td>\n",
              "      <td>0.0</td>\n",
              "      <td>0.0</td>\n",
              "      <td>0.0</td>\n",
              "      <td>0.0</td>\n",
              "      <td>0.0</td>\n",
              "      <td>NaN</td>\n",
              "      <td>NaN</td>\n",
              "      <td>NaN</td>\n",
              "      <td>NaN</td>\n",
              "      <td>NaN</td>\n",
              "      <td>NaN</td>\n",
              "      <td>NaN</td>\n",
              "      <td>0.0</td>\n",
              "      <td>38928341.0</td>\n",
              "      <td>54.422</td>\n",
              "      <td>18.6</td>\n",
              "      <td>2.581</td>\n",
              "      <td>1.337</td>\n",
              "      <td>1803.987</td>\n",
              "      <td>NaN</td>\n",
              "      <td>597.029</td>\n",
              "      <td>9.59</td>\n",
              "      <td>NaN</td>\n",
              "      <td>NaN</td>\n",
              "      <td>37.746</td>\n",
              "      <td>0.5</td>\n",
              "    </tr>\n",
              "    <tr>\n",
              "      <th>3</th>\n",
              "      <td>AFG</td>\n",
              "      <td>Asia</td>\n",
              "      <td>Afghanistan</td>\n",
              "      <td>2020-01-03</td>\n",
              "      <td>0.0</td>\n",
              "      <td>0.0</td>\n",
              "      <td>0.0</td>\n",
              "      <td>0.0</td>\n",
              "      <td>0.0</td>\n",
              "      <td>0.0</td>\n",
              "      <td>0.0</td>\n",
              "      <td>0.0</td>\n",
              "      <td>NaN</td>\n",
              "      <td>NaN</td>\n",
              "      <td>NaN</td>\n",
              "      <td>NaN</td>\n",
              "      <td>NaN</td>\n",
              "      <td>NaN</td>\n",
              "      <td>NaN</td>\n",
              "      <td>0.0</td>\n",
              "      <td>38928341.0</td>\n",
              "      <td>54.422</td>\n",
              "      <td>18.6</td>\n",
              "      <td>2.581</td>\n",
              "      <td>1.337</td>\n",
              "      <td>1803.987</td>\n",
              "      <td>NaN</td>\n",
              "      <td>597.029</td>\n",
              "      <td>9.59</td>\n",
              "      <td>NaN</td>\n",
              "      <td>NaN</td>\n",
              "      <td>37.746</td>\n",
              "      <td>0.5</td>\n",
              "    </tr>\n",
              "    <tr>\n",
              "      <th>4</th>\n",
              "      <td>AFG</td>\n",
              "      <td>Asia</td>\n",
              "      <td>Afghanistan</td>\n",
              "      <td>2020-01-04</td>\n",
              "      <td>0.0</td>\n",
              "      <td>0.0</td>\n",
              "      <td>0.0</td>\n",
              "      <td>0.0</td>\n",
              "      <td>0.0</td>\n",
              "      <td>0.0</td>\n",
              "      <td>0.0</td>\n",
              "      <td>0.0</td>\n",
              "      <td>NaN</td>\n",
              "      <td>NaN</td>\n",
              "      <td>NaN</td>\n",
              "      <td>NaN</td>\n",
              "      <td>NaN</td>\n",
              "      <td>NaN</td>\n",
              "      <td>NaN</td>\n",
              "      <td>0.0</td>\n",
              "      <td>38928341.0</td>\n",
              "      <td>54.422</td>\n",
              "      <td>18.6</td>\n",
              "      <td>2.581</td>\n",
              "      <td>1.337</td>\n",
              "      <td>1803.987</td>\n",
              "      <td>NaN</td>\n",
              "      <td>597.029</td>\n",
              "      <td>9.59</td>\n",
              "      <td>NaN</td>\n",
              "      <td>NaN</td>\n",
              "      <td>37.746</td>\n",
              "      <td>0.5</td>\n",
              "    </tr>\n",
              "  </tbody>\n",
              "</table>\n",
              "</div>"
            ],
            "text/plain": [
              "  iso_code continent  ... handwashing_facilities hospital_beds_per_thousand\n",
              "0      AFG      Asia  ...                 37.746                        0.5\n",
              "1      AFG      Asia  ...                 37.746                        0.5\n",
              "2      AFG      Asia  ...                 37.746                        0.5\n",
              "3      AFG      Asia  ...                 37.746                        0.5\n",
              "4      AFG      Asia  ...                 37.746                        0.5\n",
              "\n",
              "[5 rows x 33 columns]"
            ]
          },
          "metadata": {
            "tags": []
          },
          "execution_count": 8
        }
      ]
    },
    {
      "cell_type": "code",
      "metadata": {
        "id": "jxARvJP0bAUQ",
        "colab_type": "code",
        "colab": {
          "base_uri": "https://localhost:8080/",
          "height": 72
        },
        "outputId": "f9a98559-d3e3-4bc2-cdad-37a2d5bbfab8"
      },
      "source": [
        "# Verificando as dimensões \n",
        "\n",
        "print ('Dimensões do DataSet',\n",
        "       '\\nVariáveis:', df.shape[1], \"\\n\"\n",
        "       'Entradas:', df.shape [0])"
      ],
      "execution_count": null,
      "outputs": [
        {
          "output_type": "stream",
          "text": [
            "Dimensões do DataSet \n",
            "Variáveis: 33 \n",
            "Entradas: 24023\n"
          ],
          "name": "stdout"
        }
      ]
    },
    {
      "cell_type": "markdown",
      "metadata": {
        "id": "c_TnqDNZcZpN",
        "colab_type": "text"
      },
      "source": [
        "Após verificar as dimensões do meu DataSet, consigo perceber que existem 33 variáveis com 24.023 entradas."
      ]
    },
    {
      "cell_type": "markdown",
      "metadata": {
        "id": "I5eMlh0zmQcD",
        "colab_type": "text"
      },
      "source": [
        "Agora faremos a impressão na tela dos colunas que estão presentes neste DataSet. "
      ]
    },
    {
      "cell_type": "code",
      "metadata": {
        "id": "8BN45wS-bOjI",
        "colab_type": "code",
        "colab": {
          "base_uri": "https://localhost:8080/",
          "height": 219
        },
        "outputId": "4ef17468-4630-4a65-98c6-5d644c4abf66"
      },
      "source": [
        "print (df.columns)"
      ],
      "execution_count": null,
      "outputs": [
        {
          "output_type": "stream",
          "text": [
            "Index(['iso_code', 'continent', 'location', 'date', 'total_cases', 'new_cases',\n",
            "       'total_deaths', 'new_deaths', 'total_cases_per_million',\n",
            "       'new_cases_per_million', 'total_deaths_per_million',\n",
            "       'new_deaths_per_million', 'total_tests', 'new_tests',\n",
            "       'total_tests_per_thousand', 'new_tests_per_thousand',\n",
            "       'new_tests_smoothed', 'new_tests_smoothed_per_thousand', 'tests_units',\n",
            "       'stringency_index', 'population', 'population_density', 'median_age',\n",
            "       'aged_65_older', 'aged_70_older', 'gdp_per_capita', 'extreme_poverty',\n",
            "       'cvd_death_rate', 'diabetes_prevalence', 'female_smokers',\n",
            "       'male_smokers', 'handwashing_facilities', 'hospital_beds_per_thousand'],\n",
            "      dtype='object')\n"
          ],
          "name": "stdout"
        }
      ]
    },
    {
      "cell_type": "markdown",
      "metadata": {
        "id": "ASGvM75XlqFz",
        "colab_type": "text"
      },
      "source": [
        "Neste momento, verificarei quais são os tipos de variáveis que o meu DataSet apresenta. "
      ]
    },
    {
      "cell_type": "code",
      "metadata": {
        "id": "80j7EukYlklD",
        "colab_type": "code",
        "colab": {
          "base_uri": "https://localhost:8080/",
          "height": 641
        },
        "outputId": "273337f6-f4e1-4526-bc6e-dd130dc2aa63"
      },
      "source": [
        "df.dtypes"
      ],
      "execution_count": 39,
      "outputs": [
        {
          "output_type": "execute_result",
          "data": {
            "text/plain": [
              "iso_code                                   object\n",
              "continent                                  object\n",
              "location                                   object\n",
              "date                               datetime64[ns]\n",
              "total_cases                               float64\n",
              "new_cases                                 float64\n",
              "total_deaths                              float64\n",
              "new_deaths                                float64\n",
              "total_cases_per_million                   float64\n",
              "new_cases_per_million                     float64\n",
              "total_deaths_per_million                  float64\n",
              "new_deaths_per_million                    float64\n",
              "total_tests                               float64\n",
              "new_tests                                 float64\n",
              "total_tests_per_thousand                  float64\n",
              "new_tests_per_thousand                    float64\n",
              "new_tests_smoothed                        float64\n",
              "new_tests_smoothed_per_thousand           float64\n",
              "tests_units                                object\n",
              "stringency_index                          float64\n",
              "population                                float64\n",
              "population_density                        float64\n",
              "median_age                                float64\n",
              "aged_65_older                             float64\n",
              "aged_70_older                             float64\n",
              "gdp_per_capita                            float64\n",
              "extreme_poverty                           float64\n",
              "cvd_death_rate                            float64\n",
              "diabetes_prevalence                       float64\n",
              "female_smokers                            float64\n",
              "male_smokers                              float64\n",
              "handwashing_facilities                    float64\n",
              "hospital_beds_per_thousand                float64\n",
              "dtype: object"
            ]
          },
          "metadata": {
            "tags": []
          },
          "execution_count": 39
        }
      ]
    },
    {
      "cell_type": "markdown",
      "metadata": {
        "id": "yKHmNCt53MUK",
        "colab_type": "text"
      },
      "source": [
        "Após executar a linha acima, é perceptivel que a variável data está como `object`. Desta forma, precisamos converte - la para `datetime`. "
      ]
    },
    {
      "cell_type": "code",
      "metadata": {
        "id": "c3hpJW1J3JEW",
        "colab_type": "code",
        "colab": {}
      },
      "source": [
        "df.date = pd.to_datetime(df.date)"
      ],
      "execution_count": 40,
      "outputs": []
    },
    {
      "cell_type": "markdown",
      "metadata": {
        "id": "-GQTR-KW4BKQ",
        "colab_type": "text"
      },
      "source": [
        "Ao plotar o `df.head()`, percebi que existem muitas entradas faltantes. "
      ]
    },
    {
      "cell_type": "code",
      "metadata": {
        "id": "Ga10nvLC4fHV",
        "colab_type": "code",
        "colab": {
          "base_uri": "https://localhost:8080/",
          "height": 641
        },
        "outputId": "89d53491-4d99-4293-f899-879e58eaec9d"
      },
      "source": [
        "(df.isnull().sum() / df.shape [0]).sort_values(ascending=False)"
      ],
      "execution_count": null,
      "outputs": [
        {
          "output_type": "execute_result",
          "data": {
            "text/plain": [
              "new_tests                          0.759397\n",
              "new_tests_per_thousand             0.759397\n",
              "total_tests                        0.731632\n",
              "total_tests_per_thousand           0.731632\n",
              "new_tests_smoothed                 0.709070\n",
              "new_tests_smoothed_per_thousand    0.709070\n",
              "tests_units                        0.683928\n",
              "handwashing_facilities             0.596262\n",
              "extreme_poverty                    0.401657\n",
              "male_smokers                       0.277775\n",
              "female_smokers                     0.269533\n",
              "stringency_index                   0.208425\n",
              "hospital_beds_per_thousand         0.168755\n",
              "aged_65_older                      0.107147\n",
              "gdp_per_capita                     0.104317\n",
              "aged_70_older                      0.099155\n",
              "median_age                         0.094534\n",
              "cvd_death_rate                     0.093619\n",
              "diabetes_prevalence                0.064438\n",
              "population_density                 0.042543\n",
              "new_cases_per_million              0.011739\n",
              "new_deaths_per_million             0.011739\n",
              "total_deaths_per_million           0.011739\n",
              "total_cases_per_million            0.011739\n",
              "continent                          0.009657\n",
              "new_deaths                         0.009075\n",
              "total_deaths                       0.009075\n",
              "new_cases                          0.009075\n",
              "total_cases                        0.009075\n",
              "population                         0.002664\n",
              "iso_code                           0.002664\n",
              "location                           0.000000\n",
              "date                               0.000000\n",
              "dtype: float64"
            ]
          },
          "metadata": {
            "tags": []
          },
          "execution_count": 9
        }
      ]
    },
    {
      "cell_type": "markdown",
      "metadata": {
        "id": "OknfQY7A5A_r",
        "colab_type": "text"
      },
      "source": [
        "Ao plotar por ordem crescente, percebemos que existem dados faltantes nas seguintes em quase 76% em: `new_tests` e `new_tests_per_thousand`. Ao analisar as 5 primeiras variáveis com maior porcentagem de numeros faltantes percebo que são as que estão de alguma forma relacionadas aos testes de Covid 19. "
      ]
    },
    {
      "cell_type": "markdown",
      "metadata": {
        "id": "qodH6XU2BWLE",
        "colab_type": "text"
      },
      "source": [
        "# Números de casos COVID19\n",
        "\n",
        "Neste momento cheio de incertezas e vivendo uma pandemia, os casos de COVID19 tem aumentado exponencialmente. Estudos demonstram que uma pessoa infectada consegue transmitir a doença para mais tres pessoas que estão ao seu redor. Numero alto né? \n"
      ]
    },
    {
      "cell_type": "code",
      "metadata": {
        "id": "JHav8ZsrCCgz",
        "colab_type": "code",
        "colab": {
          "base_uri": "https://localhost:8080/",
          "height": 278
        },
        "outputId": "2f791a8f-9bf5-431a-dd95-9ebf2c8a3262"
      },
      "source": [
        "df.loc[df.date == '2020-06-14'].sort_values(by=\"total_cases\", ascending=False)[1:6]"
      ],
      "execution_count": 6,
      "outputs": [
        {
          "output_type": "execute_result",
          "data": {
            "text/html": [
              "<div>\n",
              "<style scoped>\n",
              "    .dataframe tbody tr th:only-of-type {\n",
              "        vertical-align: middle;\n",
              "    }\n",
              "\n",
              "    .dataframe tbody tr th {\n",
              "        vertical-align: top;\n",
              "    }\n",
              "\n",
              "    .dataframe thead th {\n",
              "        text-align: right;\n",
              "    }\n",
              "</style>\n",
              "<table border=\"1\" class=\"dataframe\">\n",
              "  <thead>\n",
              "    <tr style=\"text-align: right;\">\n",
              "      <th></th>\n",
              "      <th>iso_code</th>\n",
              "      <th>continent</th>\n",
              "      <th>location</th>\n",
              "      <th>date</th>\n",
              "      <th>total_cases</th>\n",
              "      <th>new_cases</th>\n",
              "      <th>total_deaths</th>\n",
              "      <th>new_deaths</th>\n",
              "      <th>total_cases_per_million</th>\n",
              "      <th>new_cases_per_million</th>\n",
              "      <th>total_deaths_per_million</th>\n",
              "      <th>new_deaths_per_million</th>\n",
              "      <th>total_tests</th>\n",
              "      <th>new_tests</th>\n",
              "      <th>total_tests_per_thousand</th>\n",
              "      <th>new_tests_per_thousand</th>\n",
              "      <th>new_tests_smoothed</th>\n",
              "      <th>new_tests_smoothed_per_thousand</th>\n",
              "      <th>tests_units</th>\n",
              "      <th>stringency_index</th>\n",
              "      <th>population</th>\n",
              "      <th>population_density</th>\n",
              "      <th>median_age</th>\n",
              "      <th>aged_65_older</th>\n",
              "      <th>aged_70_older</th>\n",
              "      <th>gdp_per_capita</th>\n",
              "      <th>extreme_poverty</th>\n",
              "      <th>cvd_death_rate</th>\n",
              "      <th>diabetes_prevalence</th>\n",
              "      <th>female_smokers</th>\n",
              "      <th>male_smokers</th>\n",
              "      <th>handwashing_facilities</th>\n",
              "      <th>hospital_beds_per_thousand</th>\n",
              "    </tr>\n",
              "  </thead>\n",
              "  <tbody>\n",
              "    <tr>\n",
              "      <th>22873</th>\n",
              "      <td>USA</td>\n",
              "      <td>North America</td>\n",
              "      <td>United States</td>\n",
              "      <td>2020-06-14</td>\n",
              "      <td>2074526.0</td>\n",
              "      <td>25540.0</td>\n",
              "      <td>115436.0</td>\n",
              "      <td>767.0</td>\n",
              "      <td>6267.400</td>\n",
              "      <td>77.160</td>\n",
              "      <td>348.746</td>\n",
              "      <td>2.317</td>\n",
              "      <td>NaN</td>\n",
              "      <td>NaN</td>\n",
              "      <td>NaN</td>\n",
              "      <td>NaN</td>\n",
              "      <td>NaN</td>\n",
              "      <td>NaN</td>\n",
              "      <td>NaN</td>\n",
              "      <td>NaN</td>\n",
              "      <td>3.310026e+08</td>\n",
              "      <td>35.608</td>\n",
              "      <td>38.3</td>\n",
              "      <td>15.413</td>\n",
              "      <td>9.732</td>\n",
              "      <td>54225.446</td>\n",
              "      <td>1.2</td>\n",
              "      <td>151.089</td>\n",
              "      <td>10.79</td>\n",
              "      <td>19.1</td>\n",
              "      <td>24.6</td>\n",
              "      <td>NaN</td>\n",
              "      <td>2.77</td>\n",
              "    </tr>\n",
              "    <tr>\n",
              "      <th>3263</th>\n",
              "      <td>BRA</td>\n",
              "      <td>South America</td>\n",
              "      <td>Brazil</td>\n",
              "      <td>2020-06-14</td>\n",
              "      <td>850514.0</td>\n",
              "      <td>21704.0</td>\n",
              "      <td>42720.0</td>\n",
              "      <td>892.0</td>\n",
              "      <td>4001.300</td>\n",
              "      <td>102.108</td>\n",
              "      <td>200.979</td>\n",
              "      <td>4.196</td>\n",
              "      <td>NaN</td>\n",
              "      <td>NaN</td>\n",
              "      <td>NaN</td>\n",
              "      <td>NaN</td>\n",
              "      <td>NaN</td>\n",
              "      <td>NaN</td>\n",
              "      <td>NaN</td>\n",
              "      <td>NaN</td>\n",
              "      <td>2.125594e+08</td>\n",
              "      <td>25.040</td>\n",
              "      <td>33.5</td>\n",
              "      <td>8.552</td>\n",
              "      <td>5.060</td>\n",
              "      <td>14103.452</td>\n",
              "      <td>3.4</td>\n",
              "      <td>177.961</td>\n",
              "      <td>8.11</td>\n",
              "      <td>10.1</td>\n",
              "      <td>17.9</td>\n",
              "      <td>NaN</td>\n",
              "      <td>2.20</td>\n",
              "    </tr>\n",
              "    <tr>\n",
              "      <th>18170</th>\n",
              "      <td>RUS</td>\n",
              "      <td>Europe</td>\n",
              "      <td>Russia</td>\n",
              "      <td>2020-06-14</td>\n",
              "      <td>520129.0</td>\n",
              "      <td>8706.0</td>\n",
              "      <td>6829.0</td>\n",
              "      <td>114.0</td>\n",
              "      <td>3564.127</td>\n",
              "      <td>59.657</td>\n",
              "      <td>46.795</td>\n",
              "      <td>0.781</td>\n",
              "      <td>NaN</td>\n",
              "      <td>NaN</td>\n",
              "      <td>NaN</td>\n",
              "      <td>NaN</td>\n",
              "      <td>NaN</td>\n",
              "      <td>NaN</td>\n",
              "      <td>NaN</td>\n",
              "      <td>NaN</td>\n",
              "      <td>1.459345e+08</td>\n",
              "      <td>8.823</td>\n",
              "      <td>39.6</td>\n",
              "      <td>14.178</td>\n",
              "      <td>9.393</td>\n",
              "      <td>24765.954</td>\n",
              "      <td>0.1</td>\n",
              "      <td>431.297</td>\n",
              "      <td>6.18</td>\n",
              "      <td>23.4</td>\n",
              "      <td>58.3</td>\n",
              "      <td>NaN</td>\n",
              "      <td>8.05</td>\n",
              "    </tr>\n",
              "    <tr>\n",
              "      <th>10140</th>\n",
              "      <td>IND</td>\n",
              "      <td>Asia</td>\n",
              "      <td>India</td>\n",
              "      <td>2020-06-14</td>\n",
              "      <td>320922.0</td>\n",
              "      <td>11929.0</td>\n",
              "      <td>9195.0</td>\n",
              "      <td>311.0</td>\n",
              "      <td>232.551</td>\n",
              "      <td>8.644</td>\n",
              "      <td>6.663</td>\n",
              "      <td>0.225</td>\n",
              "      <td>NaN</td>\n",
              "      <td>NaN</td>\n",
              "      <td>NaN</td>\n",
              "      <td>NaN</td>\n",
              "      <td>NaN</td>\n",
              "      <td>NaN</td>\n",
              "      <td>NaN</td>\n",
              "      <td>NaN</td>\n",
              "      <td>1.380004e+09</td>\n",
              "      <td>450.419</td>\n",
              "      <td>28.2</td>\n",
              "      <td>5.989</td>\n",
              "      <td>3.414</td>\n",
              "      <td>6426.674</td>\n",
              "      <td>21.2</td>\n",
              "      <td>282.280</td>\n",
              "      <td>10.39</td>\n",
              "      <td>1.9</td>\n",
              "      <td>20.6</td>\n",
              "      <td>59.55</td>\n",
              "      <td>0.53</td>\n",
              "    </tr>\n",
              "    <tr>\n",
              "      <th>22705</th>\n",
              "      <td>GBR</td>\n",
              "      <td>Europe</td>\n",
              "      <td>United Kingdom</td>\n",
              "      <td>2020-06-14</td>\n",
              "      <td>294375.0</td>\n",
              "      <td>1425.0</td>\n",
              "      <td>41662.0</td>\n",
              "      <td>181.0</td>\n",
              "      <td>4336.314</td>\n",
              "      <td>20.991</td>\n",
              "      <td>613.705</td>\n",
              "      <td>2.666</td>\n",
              "      <td>NaN</td>\n",
              "      <td>NaN</td>\n",
              "      <td>NaN</td>\n",
              "      <td>NaN</td>\n",
              "      <td>NaN</td>\n",
              "      <td>NaN</td>\n",
              "      <td>NaN</td>\n",
              "      <td>NaN</td>\n",
              "      <td>6.788600e+07</td>\n",
              "      <td>272.898</td>\n",
              "      <td>40.8</td>\n",
              "      <td>18.517</td>\n",
              "      <td>12.527</td>\n",
              "      <td>39753.244</td>\n",
              "      <td>0.2</td>\n",
              "      <td>122.137</td>\n",
              "      <td>4.28</td>\n",
              "      <td>20.0</td>\n",
              "      <td>24.7</td>\n",
              "      <td>NaN</td>\n",
              "      <td>2.54</td>\n",
              "    </tr>\n",
              "  </tbody>\n",
              "</table>\n",
              "</div>"
            ],
            "text/plain": [
              "      iso_code  ... hospital_beds_per_thousand\n",
              "22873      USA  ...                       2.77\n",
              "3263       BRA  ...                       2.20\n",
              "18170      RUS  ...                       8.05\n",
              "10140      IND  ...                       0.53\n",
              "22705      GBR  ...                       2.54\n",
              "\n",
              "[5 rows x 33 columns]"
            ]
          },
          "metadata": {
            "tags": []
          },
          "execution_count": 6
        }
      ]
    },
    {
      "cell_type": "markdown",
      "metadata": {
        "id": "BMiDx0P8CwIm",
        "colab_type": "text"
      },
      "source": [
        "Na primeira posição percebemos que vem o dado de escala global, isso quer dizer que é um valor que se destaca dos demais, justamente, por ser a soma de todas as variáveis presentes no DataSet, e o Brasil está na segunda posição de mais casos do mundo, abaixo apenas dos EUA. \n",
        "\n"
      ]
    },
    {
      "cell_type": "code",
      "metadata": {
        "id": "x-z0itHuFTf-",
        "colab_type": "code",
        "colab": {
          "base_uri": "https://localhost:8080/",
          "height": 276
        },
        "outputId": "4d1ad38d-95d6-49e7-ac09-8ac7009f9d64"
      },
      "source": [
        "df.loc[df.location == \"World\", \"total_cases\"].reset_index(drop=True).plot();"
      ],
      "execution_count": null,
      "outputs": [
        {
          "output_type": "display_data",
          "data": {
            "image/png": "[encoded data removed]",
            "text/plain": [
              "<Figure size 432x288 with 1 Axes>"
            ]
          },
          "metadata": {
            "tags": [],
            "needs_background": "light"
          }
        }
      ]
    },
    {
      "cell_type": "markdown",
      "metadata": {
        "id": "2kb7quHKrDfG",
        "colab_type": "text"
      },
      "source": [
        "Ao plotar o gráfico acima, percebemos que o número de casos tem aumentado substancialmente. "
      ]
    },
    {
      "cell_type": "markdown",
      "metadata": {
        "id": "XxNV1eeADE-i",
        "colab_type": "text"
      },
      "source": [
        "# Mortes pela Covid19. \n",
        "\n",
        "A doença tem alastrado cidades e devastado familias de todos os locais do mundo. A morte por COVID19 tem sido uma realidade cada vez mais presente na vida dos cidadões espalhados pelo planeta. "
      ]
    },
    {
      "cell_type": "code",
      "metadata": {
        "id": "l7a5V5wXDx7Q",
        "colab_type": "code",
        "colab": {
          "base_uri": "https://localhost:8080/",
          "height": 278
        },
        "outputId": "fa3911f5-90f4-47d5-dc51-dabd8e5e4f1f"
      },
      "source": [
        "df.loc[df.date =='2020-06-14'].sort_values (\"total_deaths\", ascending = False)[1:6]"
      ],
      "execution_count": 5,
      "outputs": [
        {
          "output_type": "execute_result",
          "data": {
            "text/html": [
              "<div>\n",
              "<style scoped>\n",
              "    .dataframe tbody tr th:only-of-type {\n",
              "        vertical-align: middle;\n",
              "    }\n",
              "\n",
              "    .dataframe tbody tr th {\n",
              "        vertical-align: top;\n",
              "    }\n",
              "\n",
              "    .dataframe thead th {\n",
              "        text-align: right;\n",
              "    }\n",
              "</style>\n",
              "<table border=\"1\" class=\"dataframe\">\n",
              "  <thead>\n",
              "    <tr style=\"text-align: right;\">\n",
              "      <th></th>\n",
              "      <th>iso_code</th>\n",
              "      <th>continent</th>\n",
              "      <th>location</th>\n",
              "      <th>date</th>\n",
              "      <th>total_cases</th>\n",
              "      <th>new_cases</th>\n",
              "      <th>total_deaths</th>\n",
              "      <th>new_deaths</th>\n",
              "      <th>total_cases_per_million</th>\n",
              "      <th>new_cases_per_million</th>\n",
              "      <th>total_deaths_per_million</th>\n",
              "      <th>new_deaths_per_million</th>\n",
              "      <th>total_tests</th>\n",
              "      <th>new_tests</th>\n",
              "      <th>total_tests_per_thousand</th>\n",
              "      <th>new_tests_per_thousand</th>\n",
              "      <th>new_tests_smoothed</th>\n",
              "      <th>new_tests_smoothed_per_thousand</th>\n",
              "      <th>tests_units</th>\n",
              "      <th>stringency_index</th>\n",
              "      <th>population</th>\n",
              "      <th>population_density</th>\n",
              "      <th>median_age</th>\n",
              "      <th>aged_65_older</th>\n",
              "      <th>aged_70_older</th>\n",
              "      <th>gdp_per_capita</th>\n",
              "      <th>extreme_poverty</th>\n",
              "      <th>cvd_death_rate</th>\n",
              "      <th>diabetes_prevalence</th>\n",
              "      <th>female_smokers</th>\n",
              "      <th>male_smokers</th>\n",
              "      <th>handwashing_facilities</th>\n",
              "      <th>hospital_beds_per_thousand</th>\n",
              "    </tr>\n",
              "  </thead>\n",
              "  <tbody>\n",
              "    <tr>\n",
              "      <th>22873</th>\n",
              "      <td>USA</td>\n",
              "      <td>North America</td>\n",
              "      <td>United States</td>\n",
              "      <td>2020-06-14</td>\n",
              "      <td>2074526.0</td>\n",
              "      <td>25540.0</td>\n",
              "      <td>115436.0</td>\n",
              "      <td>767.0</td>\n",
              "      <td>6267.400</td>\n",
              "      <td>77.160</td>\n",
              "      <td>348.746</td>\n",
              "      <td>2.317</td>\n",
              "      <td>NaN</td>\n",
              "      <td>NaN</td>\n",
              "      <td>NaN</td>\n",
              "      <td>NaN</td>\n",
              "      <td>NaN</td>\n",
              "      <td>NaN</td>\n",
              "      <td>NaN</td>\n",
              "      <td>NaN</td>\n",
              "      <td>331002647.0</td>\n",
              "      <td>35.608</td>\n",
              "      <td>38.3</td>\n",
              "      <td>15.413</td>\n",
              "      <td>9.732</td>\n",
              "      <td>54225.446</td>\n",
              "      <td>1.2</td>\n",
              "      <td>151.089</td>\n",
              "      <td>10.79</td>\n",
              "      <td>19.1</td>\n",
              "      <td>24.6</td>\n",
              "      <td>NaN</td>\n",
              "      <td>2.77</td>\n",
              "    </tr>\n",
              "    <tr>\n",
              "      <th>3263</th>\n",
              "      <td>BRA</td>\n",
              "      <td>South America</td>\n",
              "      <td>Brazil</td>\n",
              "      <td>2020-06-14</td>\n",
              "      <td>850514.0</td>\n",
              "      <td>21704.0</td>\n",
              "      <td>42720.0</td>\n",
              "      <td>892.0</td>\n",
              "      <td>4001.300</td>\n",
              "      <td>102.108</td>\n",
              "      <td>200.979</td>\n",
              "      <td>4.196</td>\n",
              "      <td>NaN</td>\n",
              "      <td>NaN</td>\n",
              "      <td>NaN</td>\n",
              "      <td>NaN</td>\n",
              "      <td>NaN</td>\n",
              "      <td>NaN</td>\n",
              "      <td>NaN</td>\n",
              "      <td>NaN</td>\n",
              "      <td>212559409.0</td>\n",
              "      <td>25.040</td>\n",
              "      <td>33.5</td>\n",
              "      <td>8.552</td>\n",
              "      <td>5.060</td>\n",
              "      <td>14103.452</td>\n",
              "      <td>3.4</td>\n",
              "      <td>177.961</td>\n",
              "      <td>8.11</td>\n",
              "      <td>10.1</td>\n",
              "      <td>17.9</td>\n",
              "      <td>NaN</td>\n",
              "      <td>2.20</td>\n",
              "    </tr>\n",
              "    <tr>\n",
              "      <th>22705</th>\n",
              "      <td>GBR</td>\n",
              "      <td>Europe</td>\n",
              "      <td>United Kingdom</td>\n",
              "      <td>2020-06-14</td>\n",
              "      <td>294375.0</td>\n",
              "      <td>1425.0</td>\n",
              "      <td>41662.0</td>\n",
              "      <td>181.0</td>\n",
              "      <td>4336.314</td>\n",
              "      <td>20.991</td>\n",
              "      <td>613.705</td>\n",
              "      <td>2.666</td>\n",
              "      <td>NaN</td>\n",
              "      <td>NaN</td>\n",
              "      <td>NaN</td>\n",
              "      <td>NaN</td>\n",
              "      <td>NaN</td>\n",
              "      <td>NaN</td>\n",
              "      <td>NaN</td>\n",
              "      <td>NaN</td>\n",
              "      <td>67886004.0</td>\n",
              "      <td>272.898</td>\n",
              "      <td>40.8</td>\n",
              "      <td>18.517</td>\n",
              "      <td>12.527</td>\n",
              "      <td>39753.244</td>\n",
              "      <td>0.2</td>\n",
              "      <td>122.137</td>\n",
              "      <td>4.28</td>\n",
              "      <td>20.0</td>\n",
              "      <td>24.7</td>\n",
              "      <td>NaN</td>\n",
              "      <td>2.54</td>\n",
              "    </tr>\n",
              "    <tr>\n",
              "      <th>11225</th>\n",
              "      <td>ITA</td>\n",
              "      <td>Europe</td>\n",
              "      <td>Italy</td>\n",
              "      <td>2020-06-14</td>\n",
              "      <td>236651.0</td>\n",
              "      <td>346.0</td>\n",
              "      <td>34301.0</td>\n",
              "      <td>78.0</td>\n",
              "      <td>3914.056</td>\n",
              "      <td>5.723</td>\n",
              "      <td>567.317</td>\n",
              "      <td>1.290</td>\n",
              "      <td>NaN</td>\n",
              "      <td>NaN</td>\n",
              "      <td>NaN</td>\n",
              "      <td>NaN</td>\n",
              "      <td>NaN</td>\n",
              "      <td>NaN</td>\n",
              "      <td>NaN</td>\n",
              "      <td>NaN</td>\n",
              "      <td>60461828.0</td>\n",
              "      <td>205.859</td>\n",
              "      <td>47.9</td>\n",
              "      <td>23.021</td>\n",
              "      <td>16.240</td>\n",
              "      <td>35220.084</td>\n",
              "      <td>2.0</td>\n",
              "      <td>113.151</td>\n",
              "      <td>4.78</td>\n",
              "      <td>19.8</td>\n",
              "      <td>27.8</td>\n",
              "      <td>NaN</td>\n",
              "      <td>3.18</td>\n",
              "    </tr>\n",
              "    <tr>\n",
              "      <th>7839</th>\n",
              "      <td>FRA</td>\n",
              "      <td>Europe</td>\n",
              "      <td>France</td>\n",
              "      <td>2020-06-14</td>\n",
              "      <td>156813.0</td>\n",
              "      <td>526.0</td>\n",
              "      <td>29398.0</td>\n",
              "      <td>24.0</td>\n",
              "      <td>2402.399</td>\n",
              "      <td>8.058</td>\n",
              "      <td>450.382</td>\n",
              "      <td>0.368</td>\n",
              "      <td>NaN</td>\n",
              "      <td>NaN</td>\n",
              "      <td>NaN</td>\n",
              "      <td>NaN</td>\n",
              "      <td>NaN</td>\n",
              "      <td>NaN</td>\n",
              "      <td>NaN</td>\n",
              "      <td>NaN</td>\n",
              "      <td>65273512.0</td>\n",
              "      <td>122.578</td>\n",
              "      <td>42.0</td>\n",
              "      <td>19.718</td>\n",
              "      <td>13.079</td>\n",
              "      <td>38605.671</td>\n",
              "      <td>NaN</td>\n",
              "      <td>86.060</td>\n",
              "      <td>4.77</td>\n",
              "      <td>30.1</td>\n",
              "      <td>35.6</td>\n",
              "      <td>NaN</td>\n",
              "      <td>5.98</td>\n",
              "    </tr>\n",
              "  </tbody>\n",
              "</table>\n",
              "</div>"
            ],
            "text/plain": [
              "      iso_code  ... hospital_beds_per_thousand\n",
              "22873      USA  ...                       2.77\n",
              "3263       BRA  ...                       2.20\n",
              "22705      GBR  ...                       2.54\n",
              "11225      ITA  ...                       3.18\n",
              "7839       FRA  ...                       5.98\n",
              "\n",
              "[5 rows x 33 columns]"
            ]
          },
          "metadata": {
            "tags": []
          },
          "execution_count": 5
        }
      ]
    },
    {
      "cell_type": "markdown",
      "metadata": {
        "id": "0C-BI2mVEJiu",
        "colab_type": "text"
      },
      "source": [
        "Nas análises acima, percebemos novamente o numero discrepante que pertence aos dados mundiais, e o **Brasil**, infelizmente, liderando o ranking junto com os EUA, ocupando a segunda posição, com **2.074.526 mortes**.Percebemos também, já no fim das posições o continente Asiático, no País da Mongólia totalizando ate o dia de análise 197 casos. "
      ]
    },
    {
      "cell_type": "code",
      "metadata": {
        "id": "UwGa9WazrRuE",
        "colab_type": "code",
        "colab": {
          "base_uri": "https://localhost:8080/",
          "height": 265
        },
        "outputId": "e68347dc-de60-4d57-9a67-bee0f97a210b"
      },
      "source": [
        "df.loc[df.location == \"World\", \"total_deaths\"].reset_index(drop=True).plot();"
      ],
      "execution_count": null,
      "outputs": [
        {
          "output_type": "display_data",
          "data": {
            "image/png": "[encoded data removed]",
            "text/plain": [
              "<Figure size 432x288 with 1 Axes>"
            ]
          },
          "metadata": {
            "tags": [],
            "needs_background": "light"
          }
        }
      ]
    },
    {
      "cell_type": "markdown",
      "metadata": {
        "id": "eXipiRjxsobB",
        "colab_type": "text"
      },
      "source": [
        "Ambos os gráficos plotados acima citando o `total_deaths` e `total_cases` vem aumentando de forma drástica e expressiva ao longo dos dias no mundo. Situação que se torna complicada e nos faz questionar se o pior realmente já passou. \n",
        "\n",
        "Para uma melhor visualização dos países com mais mortes. Vou plotar abaixo um gráfico de barras constando os 5 paises com os maiores numeros de mortes na data que foi utilizado para análise.  "
      ]
    },
    {
      "cell_type": "code",
      "metadata": {
        "id": "k33wyf8NVXP5",
        "colab_type": "code",
        "colab": {
          "base_uri": "https://localhost:8080/",
          "height": 369
        },
        "outputId": "5c187158-e396-426f-baf8-d1029703cd2f"
      },
      "source": [
        "df_top_5_mortes = df.loc[df.date == '2020-06-15', ['location','total_deaths']].sort_values(by='total_deaths', ascending=False)[1:6]\n",
        "\n",
        "fig, ax = plt.subplots(figsize=(10,5))\n",
        "\n",
        "ax.bar('location', 'total_deaths', data=df_top_5_mortes)\n",
        "\n",
        "plt.tight_layout()"
      ],
      "execution_count": 20,
      "outputs": [
        {
          "output_type": "display_data",
          "data": {
            "image/png": "[encoded data removed]",
            "text/plain": [
              "<Figure size 720x360 with 1 Axes>"
            ]
          },
          "metadata": {
            "tags": [],
            "needs_background": "light"
          }
        }
      ]
    },
    {
      "cell_type": "markdown",
      "metadata": {
        "id": "N-n4i80xL5dn",
        "colab_type": "text"
      },
      "source": [
        "# Produto Interno Bruto X total de Casos\n",
        "\n",
        "O produto interno bruto, mais conhecido com a sigla brasileira, PIB. Consiste na soma de todos os bens e serviços finais que são produzidos em uma determinada região. Ou seja, quanto maior o PIB de um país, maior a sua produção e consequentemente maior a sua riqueza.\n",
        "No gráfico de dispersão plotado abaixo, analisaremos a relação entre `gdp_per_capita` (Produto interno bruto dos países) e `total_cases` (total de casos pelo mundo). "
      ]
    },
    {
      "cell_type": "code",
      "metadata": {
        "id": "fxwnuO-trTw9",
        "colab_type": "code",
        "colab": {
          "base_uri": "https://localhost:8080/",
          "height": 291
        },
        "outputId": "8abe8969-62e9-4b2c-9129-55a06fb68a96"
      },
      "source": [
        "# Plotar gráfico de scatterplot \n",
        "fig, ax = plt.subplots()\n",
        "\n",
        "df.plot.scatter(x='gdp_per_capita', y='total_cases', ax=ax, s=10)\n",
        "\n",
        "plt.show()"
      ],
      "execution_count": 52,
      "outputs": [
        {
          "output_type": "display_data",
          "data": {
            "image/png": "[encoded data removed]",
            "text/plain": [
              "<Figure size 432x288 with 1 Axes>"
            ]
          },
          "metadata": {
            "tags": [],
            "needs_background": "light"
          }
        }
      ]
    },
    {
      "cell_type": "markdown",
      "metadata": {
        "id": "egznJ-BINY_Q",
        "colab_type": "text"
      },
      "source": [
        "Acima, comparando os dados que foram plotados, podemos perceber que paises com `gdp_per_capita` proximo a 20.000 apresentam uma maior concentração dos casos de mortes pela COVID19. Porém, países com o PIB proximos 60.000 também apresentam valores que se destacam no gráfico. \n",
        "\n",
        "Embora o gráfico apresente uma tendencia a demonstrar que países com maiores valores do PIB podem ter mais mortes por COVID19, é necessário que façamos a seguinte observação: Os números aumentados podem apenas traduzir a maior abrangencia da realização de testes por COVID19 quando comparados aos demais países. Sendo assim, a relação `gdp_per_capita` x `'total_deaths'` não é conclusiva. "
      ]
    },
    {
      "cell_type": "markdown",
      "metadata": {
        "id": "_RzZoKDJPTeF",
        "colab_type": "text"
      },
      "source": [
        "## Análise Exploratória de COVID - 19 no Brasil. \n",
        "\n",
        "Por conta de falta de políticas públicas, grande desigualdade social, falta de leitos de internação e de UTI pelo Sistema Único de Saúde e o enfrentamento da Pandemia pela parte do governo federal se apresentar quase nula. Os brasileiros tem apresentado inumeras dificuldades com a pandemia em muitos setores. \n",
        "\n",
        "Desta forma, dedicarei neste tópico a fazer uma análise da Pandemia no Brasil. "
      ]
    },
    {
      "cell_type": "code",
      "metadata": {
        "id": "M-bz-YQuR_vT",
        "colab_type": "code",
        "colab": {}
      },
      "source": [
        "df_brasil = df.loc[df.location == 'Brazil'].copy()"
      ],
      "execution_count": 7,
      "outputs": []
    },
    {
      "cell_type": "code",
      "metadata": {
        "id": "H94bPUIlLvgL",
        "colab_type": "code",
        "colab": {
          "base_uri": "https://localhost:8080/",
          "height": 313
        },
        "outputId": "d73f5521-4e65-437e-bf0c-2a918b8342d2"
      },
      "source": [
        "df_brasil.head()"
      ],
      "execution_count": 9,
      "outputs": [
        {
          "output_type": "execute_result",
          "data": {
            "text/html": [
              "<div>\n",
              "<style scoped>\n",
              "    .dataframe tbody tr th:only-of-type {\n",
              "        vertical-align: middle;\n",
              "    }\n",
              "\n",
              "    .dataframe tbody tr th {\n",
              "        vertical-align: top;\n",
              "    }\n",
              "\n",
              "    .dataframe thead th {\n",
              "        text-align: right;\n",
              "    }\n",
              "</style>\n",
              "<table border=\"1\" class=\"dataframe\">\n",
              "  <thead>\n",
              "    <tr style=\"text-align: right;\">\n",
              "      <th></th>\n",
              "      <th>iso_code</th>\n",
              "      <th>continent</th>\n",
              "      <th>location</th>\n",
              "      <th>date</th>\n",
              "      <th>total_cases</th>\n",
              "      <th>new_cases</th>\n",
              "      <th>total_deaths</th>\n",
              "      <th>new_deaths</th>\n",
              "      <th>total_cases_per_million</th>\n",
              "      <th>new_cases_per_million</th>\n",
              "      <th>total_deaths_per_million</th>\n",
              "      <th>new_deaths_per_million</th>\n",
              "      <th>total_tests</th>\n",
              "      <th>new_tests</th>\n",
              "      <th>total_tests_per_thousand</th>\n",
              "      <th>new_tests_per_thousand</th>\n",
              "      <th>new_tests_smoothed</th>\n",
              "      <th>new_tests_smoothed_per_thousand</th>\n",
              "      <th>tests_units</th>\n",
              "      <th>stringency_index</th>\n",
              "      <th>population</th>\n",
              "      <th>population_density</th>\n",
              "      <th>median_age</th>\n",
              "      <th>aged_65_older</th>\n",
              "      <th>aged_70_older</th>\n",
              "      <th>gdp_per_capita</th>\n",
              "      <th>extreme_poverty</th>\n",
              "      <th>cvd_death_rate</th>\n",
              "      <th>diabetes_prevalence</th>\n",
              "      <th>female_smokers</th>\n",
              "      <th>male_smokers</th>\n",
              "      <th>handwashing_facilities</th>\n",
              "      <th>hospital_beds_per_thousand</th>\n",
              "    </tr>\n",
              "  </thead>\n",
              "  <tbody>\n",
              "    <tr>\n",
              "      <th>3097</th>\n",
              "      <td>BRA</td>\n",
              "      <td>South America</td>\n",
              "      <td>Brazil</td>\n",
              "      <td>2019-12-31</td>\n",
              "      <td>0.0</td>\n",
              "      <td>0.0</td>\n",
              "      <td>0.0</td>\n",
              "      <td>0.0</td>\n",
              "      <td>0.0</td>\n",
              "      <td>0.0</td>\n",
              "      <td>0.0</td>\n",
              "      <td>0.0</td>\n",
              "      <td>NaN</td>\n",
              "      <td>NaN</td>\n",
              "      <td>NaN</td>\n",
              "      <td>NaN</td>\n",
              "      <td>NaN</td>\n",
              "      <td>NaN</td>\n",
              "      <td>NaN</td>\n",
              "      <td>NaN</td>\n",
              "      <td>212559409.0</td>\n",
              "      <td>25.04</td>\n",
              "      <td>33.5</td>\n",
              "      <td>8.552</td>\n",
              "      <td>5.06</td>\n",
              "      <td>14103.452</td>\n",
              "      <td>3.4</td>\n",
              "      <td>177.961</td>\n",
              "      <td>8.11</td>\n",
              "      <td>10.1</td>\n",
              "      <td>17.9</td>\n",
              "      <td>NaN</td>\n",
              "      <td>2.2</td>\n",
              "    </tr>\n",
              "    <tr>\n",
              "      <th>3098</th>\n",
              "      <td>BRA</td>\n",
              "      <td>South America</td>\n",
              "      <td>Brazil</td>\n",
              "      <td>2020-01-01</td>\n",
              "      <td>0.0</td>\n",
              "      <td>0.0</td>\n",
              "      <td>0.0</td>\n",
              "      <td>0.0</td>\n",
              "      <td>0.0</td>\n",
              "      <td>0.0</td>\n",
              "      <td>0.0</td>\n",
              "      <td>0.0</td>\n",
              "      <td>NaN</td>\n",
              "      <td>NaN</td>\n",
              "      <td>NaN</td>\n",
              "      <td>NaN</td>\n",
              "      <td>NaN</td>\n",
              "      <td>NaN</td>\n",
              "      <td>NaN</td>\n",
              "      <td>0.0</td>\n",
              "      <td>212559409.0</td>\n",
              "      <td>25.04</td>\n",
              "      <td>33.5</td>\n",
              "      <td>8.552</td>\n",
              "      <td>5.06</td>\n",
              "      <td>14103.452</td>\n",
              "      <td>3.4</td>\n",
              "      <td>177.961</td>\n",
              "      <td>8.11</td>\n",
              "      <td>10.1</td>\n",
              "      <td>17.9</td>\n",
              "      <td>NaN</td>\n",
              "      <td>2.2</td>\n",
              "    </tr>\n",
              "    <tr>\n",
              "      <th>3099</th>\n",
              "      <td>BRA</td>\n",
              "      <td>South America</td>\n",
              "      <td>Brazil</td>\n",
              "      <td>2020-01-02</td>\n",
              "      <td>0.0</td>\n",
              "      <td>0.0</td>\n",
              "      <td>0.0</td>\n",
              "      <td>0.0</td>\n",
              "      <td>0.0</td>\n",
              "      <td>0.0</td>\n",
              "      <td>0.0</td>\n",
              "      <td>0.0</td>\n",
              "      <td>NaN</td>\n",
              "      <td>NaN</td>\n",
              "      <td>NaN</td>\n",
              "      <td>NaN</td>\n",
              "      <td>NaN</td>\n",
              "      <td>NaN</td>\n",
              "      <td>NaN</td>\n",
              "      <td>0.0</td>\n",
              "      <td>212559409.0</td>\n",
              "      <td>25.04</td>\n",
              "      <td>33.5</td>\n",
              "      <td>8.552</td>\n",
              "      <td>5.06</td>\n",
              "      <td>14103.452</td>\n",
              "      <td>3.4</td>\n",
              "      <td>177.961</td>\n",
              "      <td>8.11</td>\n",
              "      <td>10.1</td>\n",
              "      <td>17.9</td>\n",
              "      <td>NaN</td>\n",
              "      <td>2.2</td>\n",
              "    </tr>\n",
              "    <tr>\n",
              "      <th>3100</th>\n",
              "      <td>BRA</td>\n",
              "      <td>South America</td>\n",
              "      <td>Brazil</td>\n",
              "      <td>2020-01-03</td>\n",
              "      <td>0.0</td>\n",
              "      <td>0.0</td>\n",
              "      <td>0.0</td>\n",
              "      <td>0.0</td>\n",
              "      <td>0.0</td>\n",
              "      <td>0.0</td>\n",
              "      <td>0.0</td>\n",
              "      <td>0.0</td>\n",
              "      <td>NaN</td>\n",
              "      <td>NaN</td>\n",
              "      <td>NaN</td>\n",
              "      <td>NaN</td>\n",
              "      <td>NaN</td>\n",
              "      <td>NaN</td>\n",
              "      <td>NaN</td>\n",
              "      <td>0.0</td>\n",
              "      <td>212559409.0</td>\n",
              "      <td>25.04</td>\n",
              "      <td>33.5</td>\n",
              "      <td>8.552</td>\n",
              "      <td>5.06</td>\n",
              "      <td>14103.452</td>\n",
              "      <td>3.4</td>\n",
              "      <td>177.961</td>\n",
              "      <td>8.11</td>\n",
              "      <td>10.1</td>\n",
              "      <td>17.9</td>\n",
              "      <td>NaN</td>\n",
              "      <td>2.2</td>\n",
              "    </tr>\n",
              "    <tr>\n",
              "      <th>3101</th>\n",
              "      <td>BRA</td>\n",
              "      <td>South America</td>\n",
              "      <td>Brazil</td>\n",
              "      <td>2020-01-04</td>\n",
              "      <td>0.0</td>\n",
              "      <td>0.0</td>\n",
              "      <td>0.0</td>\n",
              "      <td>0.0</td>\n",
              "      <td>0.0</td>\n",
              "      <td>0.0</td>\n",
              "      <td>0.0</td>\n",
              "      <td>0.0</td>\n",
              "      <td>NaN</td>\n",
              "      <td>NaN</td>\n",
              "      <td>NaN</td>\n",
              "      <td>NaN</td>\n",
              "      <td>NaN</td>\n",
              "      <td>NaN</td>\n",
              "      <td>NaN</td>\n",
              "      <td>0.0</td>\n",
              "      <td>212559409.0</td>\n",
              "      <td>25.04</td>\n",
              "      <td>33.5</td>\n",
              "      <td>8.552</td>\n",
              "      <td>5.06</td>\n",
              "      <td>14103.452</td>\n",
              "      <td>3.4</td>\n",
              "      <td>177.961</td>\n",
              "      <td>8.11</td>\n",
              "      <td>10.1</td>\n",
              "      <td>17.9</td>\n",
              "      <td>NaN</td>\n",
              "      <td>2.2</td>\n",
              "    </tr>\n",
              "  </tbody>\n",
              "</table>\n",
              "</div>"
            ],
            "text/plain": [
              "     iso_code  ... hospital_beds_per_thousand\n",
              "3097      BRA  ...                        2.2\n",
              "3098      BRA  ...                        2.2\n",
              "3099      BRA  ...                        2.2\n",
              "3100      BRA  ...                        2.2\n",
              "3101      BRA  ...                        2.2\n",
              "\n",
              "[5 rows x 33 columns]"
            ]
          },
          "metadata": {
            "tags": []
          },
          "execution_count": 9
        }
      ]
    },
    {
      "cell_type": "code",
      "metadata": {
        "id": "5b5cAZ2CTSLR",
        "colab_type": "code",
        "colab": {
          "base_uri": "https://localhost:8080/",
          "height": 54
        },
        "outputId": "917ecd3c-edf4-431d-bcf1-6da964aa3bb7"
      },
      "source": [
        "print('Data Máxima' , df_brasil.date.max())\n",
        "print ('Data Mínima', df_brasil.date.min())"
      ],
      "execution_count": 16,
      "outputs": [
        {
          "output_type": "stream",
          "text": [
            "Data Máxima do dataset 2020-06-15\n",
            "Data Mínima do dataset 2019-12-31\n"
          ],
          "name": "stdout"
        }
      ]
    },
    {
      "cell_type": "markdown",
      "metadata": {
        "id": "XdOe2Qg5UPpU",
        "colab_type": "text"
      },
      "source": [
        "Acima, podemos perceber que o `df_brasil` vai de **2019-12-31** a **2020-06-15**. \n",
        "\n",
        "Neste momento, vamos analisar quanto tempo demorou para o Brasil apresentar a sua primeira morte por COVID 19 a partir do primeiro caso notificado no País. \n",
        "\n",
        "Inicialmente, veremos quando foi notificado o primeiro caso de COVID19 no Brasil. "
      ]
    },
    {
      "cell_type": "code",
      "metadata": {
        "id": "UcC9GtyQXzxh",
        "colab_type": "code",
        "colab": {
          "base_uri": "https://localhost:8080/",
          "height": 35
        },
        "outputId": "0faf40e1-ec1e-4ddb-e3b3-5149efbadc5f"
      },
      "source": [
        "# Identificar quando foi registrado o primeiro caso no Brasil de COVID19.\n",
        "df_brasil.loc[df_brasil['new_cases']!=0.0].head(1)\n",
        "print('O primeiro caso foi registrado em {}'.format(df_brasil.date.loc[3154]))\n"
      ],
      "execution_count": 24,
      "outputs": [
        {
          "output_type": "stream",
          "text": [
            "O primeiro caso foi registrado em 2020-02-26\n"
          ],
          "name": "stdout"
        }
      ]
    },
    {
      "cell_type": "markdown",
      "metadata": {
        "id": "awRH_qXPX4bh",
        "colab_type": "text"
      },
      "source": [
        "O **primeiro caso** de COVID 19 registrado ocorreu em **2020-02-26.**"
      ]
    },
    {
      "cell_type": "markdown",
      "metadata": {
        "id": "wHFNGddje8cQ",
        "colab_type": "text"
      },
      "source": [
        "Agora, vamos saber quando a primeira morte por COVID-19 foi notificada no Brasil. "
      ]
    },
    {
      "cell_type": "code",
      "metadata": {
        "id": "7lW_AuYlet4H",
        "colab_type": "code",
        "colab": {
          "base_uri": "https://localhost:8080/",
          "height": 35
        },
        "outputId": "a422abdd-4a3b-4f57-f0e2-a770a278b2c2"
      },
      "source": [
        "df_brasil.loc[df_brasil['new_deaths'] != 0.0].head(1)\n",
        "print('O primeira morte foi registrada em {}'.format(df_brasil.date.loc[3175]))\n"
      ],
      "execution_count": 27,
      "outputs": [
        {
          "output_type": "stream",
          "text": [
            "O primeira morte foi registrada em 2020-03-18\n"
          ],
          "name": "stdout"
        }
      ]
    },
    {
      "cell_type": "markdown",
      "metadata": {
        "id": "uAUUgHRljLJv",
        "colab_type": "text"
      },
      "source": [
        "A **primeira morte** registrada de COVID19 no Brasil ocorreu em **2020-03-18.**"
      ]
    },
    {
      "cell_type": "markdown",
      "metadata": {
        "id": "W6oUryawka1_",
        "colab_type": "text"
      },
      "source": [
        "Para entendermos melhor o início do curso da doença no Brasil, é de extrema relevancia entendermos quanto tempo levou desde o primeiro caso, para o Brasil apresentar a sua primeira morte notificada. "
      ]
    },
    {
      "cell_type": "code",
      "metadata": {
        "id": "7D8amQWEkvbV",
        "colab_type": "code",
        "colab": {}
      },
      "source": [
        "from datetime import date\n",
        "delta = df_brasil.date.loc[3175] - df_brasil.date.loc[3154]\n",
        "print('Se passaram {} dias entre o primeiro caso e a primeira morte no Brasil.'.format(delta.days))\n",
        "\n"
      ],
      "execution_count": null,
      "outputs": []
    },
    {
      "cell_type": "markdown",
      "metadata": {
        "id": "tpoLrLsMnxnN",
        "colab_type": "text"
      },
      "source": [
        "Agora, finalizaremos a análise plotando alguns gráficos em escala linear e logaritímica para visualizarmos como anda a evolução dos casos no Brasil para casos totais x mortes totais."
      ]
    },
    {
      "cell_type": "code",
      "metadata": {
        "id": "B_soHCPSoGvC",
        "colab_type": "code",
        "colab": {
          "base_uri": "https://localhost:8080/",
          "height": 513
        },
        "outputId": "c59a8621-27f1-469a-c2b8-5ed4b900c515"
      },
      "source": [
        "x = list(range(168))\n",
        "z = df_brasil['total_cases']\n",
        "z2 = df_brasil ['total_deaths']\n",
        "\n",
        "fig, ((ax1, ax2), (ax3, ax4)) = plt.subplots (nrows=2, ncols =2, figsize=(9,7))\n",
        "ax1.set_title ('Casos no Brasil')\n",
        "ax1.set_xlabel ('Dias')\n",
        "ax1.set_ylabel ('Casos')\n",
        "ax1.plot(x,z)\n",
        "\n",
        "ax2.set_title (\"Casos no Brasil (Escala Logarítimica)\")\n",
        "ax2.set_xlabel ('Dias')\n",
        "ax2.set_ylabel ('Casos')\n",
        "ax2.set_yscale ('log')\n",
        "ax2.plot (x,z)\n",
        "\n",
        "ax3.set_title (\"Mortes no Brasil\")\n",
        "ax3.set_xlabel ('Dias')\n",
        "ax3.set_ylabel ('Mortes')\n",
        "ax3.plot (x, z2)\n",
        "\n",
        "ax4.set_title (\"Mortes no Brasil (Escala Logarítima\")\n",
        "ax4.set_xlabel ('Dias')\n",
        "ax4.set_label ('Mortes')\n",
        "ax4.set_yscale('log')\n",
        "ax4.plot (x, z2)\n",
        "plt.tight_layout()"
      ],
      "execution_count": 51,
      "outputs": [
        {
          "output_type": "display_data",
          "data": {
            "image/png": "[encoded data removed]",
            "text/plain": [
              "<Figure size 648x504 with 4 Axes>"
            ]
          },
          "metadata": {
            "tags": [],
            "needs_background": "light"
          }
        }
      ]
    },
    {
      "cell_type": "markdown",
      "metadata": {
        "id": "jJhdm1RBsUuU",
        "colab_type": "text"
      },
      "source": [
        "## Conclusão.\n",
        "\n",
        "A partir da importação e análise deste DataSet podemos tirar algumas conclusões. \n",
        "\n",
        "* O Brasil se encontra na segunda posição considerando o número de casos e números de mortes, perdendo apenas para os EUA. \n",
        "\n",
        "* Por ser dados de uma pandemia ainda em curso, importante salientar que os dados mudam diariamente. \n",
        "\n",
        "* As mortes e os casos no Brasil e no mundo tem aumentado consideravelmente. \n",
        "\n",
        "* Não há conclusão especifica em relação ao Produto Interno Bruto com o número de casos, visto que países mais ricos podem apresentar maior abrangencia de realização dos testes por COVID19. \n"
      ]
    }
  ]
}