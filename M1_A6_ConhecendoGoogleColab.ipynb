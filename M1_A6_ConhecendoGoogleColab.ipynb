{
  "nbformat": 4,
  "nbformat_minor": 0,
  "metadata": {
    "colab": {
      "name": "M1.A6_ConhecendoGoogleColab",
      "provenance": [],
      "authorship_tag": "ABX9TyOOipdhmB1KUEVSdtzfTn6M",
      "include_colab_link": true
    },
    "kernelspec": {
      "name": "python3",
      "display_name": "Python 3"
    }
  },
  "cells": [
    {
      "cell_type": "markdown",
      "metadata": {
        "id": "view-in-github",
        "colab_type": "text"
      },
      "source": [
        "<a href=\"https://colab.research.google.com/github/maah-gabs/Sigmoidal-Data-Science-/blob/master/M1_A6_ConhecendoGoogleColab.ipynb\" target=\"_parent\"><img src=\"https://colab.research.google.com/assets/colab-badge.svg\" alt=\"Open In Colab\"/></a>"
      ]
    },
    {
      "cell_type": "markdown",
      "metadata": {
        "id": "Zc4MqZY3BbxI",
        "colab_type": "text"
      },
      "source": [
        "#Modulo 01: Aula 06 - Conhecendo o Google Colab \n",
        "\n",
        "A aula que será colocada aqui é referente a aula do **Módulo 01** do **Curso de Python do Zero do Blog Sigmoidal**, ministrado pelo professor Carlos Melo e vai conter os principais temas e conteúdos discutos. \n",
        "\n",
        "Ao abrir o *google colab* você percebe a interface e que temos a opção de abrir uma linha *code* e outra *text*, sendo, uma linha para escrever e executar **código** e a outra para digitar um **texto** como esse que estamos fazendo aqui. \n",
        "\n",
        "Quando estamos utilizando a caixa de texto, perceba que existem diversas opções acima que nos permitem realizar alterações e configurações no texto de acordo com a estética que queremos utilizar em nosso notebook, conforme fomos aprendendo essas opções e a melhor definir os nosso estilo de *notebook* elas vão ficando cada vez mais simples de ser utilizada. \n",
        "\n",
        "---"
      ]
    },
    {
      "cell_type": "markdown",
      "metadata": {
        "id": "0gKfOOAmG4wW",
        "colab_type": "text"
      },
      "source": [
        "## Inserindo imagens no Notebook\n",
        "\n",
        "Para deixarmos o notebook visualmente mais bonito, podemos utilizar imagens, então descreveremos o processo que será utilizado para isso. Inicialmente, faça o *download* da imagem escolhida em seu portfolio do `gitHub`, no termino, clique no local da imagem e vá até download, copie o endereço da barra de navegação e faça o seguinte comando. \n",
        "\n",
        "<img src = \"https://raw.githubusercontent.com/maah-gabs/Python_do_zero/master/PTHON.jpg\">"
      ]
    },
    {
      "cell_type": "markdown",
      "metadata": {
        "id": "HkHUIaC3Hwdq",
        "colab_type": "text"
      },
      "source": [
        "## Listas \n",
        "\n",
        "No *google colab* também conseguimos criar listas. Veja abaixo. \n",
        "\n",
        "**- 5 motivos para se aprender Python.**\n",
        "\n",
        "\n",
        "\n",
        "1.   Curva de Aprendizado;\n",
        "2.   Demanda de Mercado;\n",
        "3.   Comunidade crescente; \n",
        "4.   Salários em alta; \n",
        "5.   Bibliotecas. \n",
        "\n"
      ]
    },
    {
      "cell_type": "markdown",
      "metadata": {
        "id": "W5dTHH-_IjpB",
        "colab_type": "text"
      },
      "source": [
        "## Células de Programação\n",
        "\n",
        "Abaixo, mostraremos como funciona as células de programação. Lembre - se, existem duas principais formas para se executar os códigos. Você pode clicar no botão de play que fica no início da célula ou utilizar o atalho `Ctrl + Enter.`"
      ]
    },
    {
      "cell_type": "code",
      "metadata": {
        "id": "y2IoD5VBIqR2",
        "colab_type": "code",
        "colab": {
          "base_uri": "https://localhost:8080/",
          "height": 35
        },
        "outputId": "b8c11b2c-d49f-4478-ac4c-96e0a886fccd"
      },
      "source": [
        "print(\"Olá, aluno Sigmoidal!\")"
      ],
      "execution_count": null,
      "outputs": [
        {
          "output_type": "stream",
          "text": [
            "Olá, aluno Sigmoidal!\n"
          ],
          "name": "stdout"
        }
      ]
    },
    {
      "cell_type": "code",
      "metadata": {
        "id": "9rlN8ImrItYE",
        "colab_type": "code",
        "colab": {}
      },
      "source": [
        ""
      ],
      "execution_count": null,
      "outputs": []
    }
  ]
}